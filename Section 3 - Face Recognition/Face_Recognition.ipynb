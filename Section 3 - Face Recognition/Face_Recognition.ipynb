{
  "nbformat": 4,
  "nbformat_minor": 0,
  "metadata": {
    "colab": {
      "provenance": []
    },
    "kernelspec": {
      "name": "python3",
      "display_name": "Python 3"
    },
    "language_info": {
      "name": "python"
    }
  },
  "cells": [
    {
      "cell_type": "markdown",
      "source": [
        "# Face Recognition Notebook"
      ],
      "metadata": {
        "id": "bSCtSXWutQTu"
      }
    },
    {
      "cell_type": "markdown",
      "source": [
        "## OpenCV"
      ],
      "metadata": {
        "id": "iYsCrMOgtd6r"
      }
    },
    {
      "cell_type": "markdown",
      "source": [
        "### Loading the dataset - Yale faces database"
      ],
      "metadata": {
        "id": "IJNpY4uAtps9"
      }
    },
    {
      "cell_type": "code",
      "execution_count": 3,
      "metadata": {
        "colab": {
          "base_uri": "https://localhost:8080/"
        },
        "id": "78Z4xt3Ys7-m",
        "outputId": "c714c4b2-512e-4545-e046-8cdeeb2f5478"
      },
      "outputs": [
        {
          "output_type": "stream",
          "name": "stdout",
          "text": [
            "Mounted at /content/drive\n"
          ]
        }
      ],
      "source": [
        "from PIL import Image\n",
        "import cv2\n",
        "import numpy as np\n",
        "from google.colab.patches import cv2_imshow\n",
        "from google.colab import drive\n",
        "drive.mount('/content/drive')"
      ]
    },
    {
      "cell_type": "code",
      "source": [
        "import zipfile\n",
        "path = '/content/drive/MyDrive/My Documents/CV-Masterclass/Datasets/yalefaces.zip'\n",
        "zip_object = zipfile.ZipFile(file=path, mode='r')\n",
        "zip_object.extractall('./')\n",
        "zip_object.close()"
      ],
      "metadata": {
        "id": "ji0dSrkBvDsO"
      },
      "execution_count": 4,
      "outputs": []
    },
    {
      "cell_type": "markdown",
      "source": [
        "### Pre-processing the images"
      ],
      "metadata": {
        "id": "7BR90Z-Xv9R2"
      }
    },
    {
      "cell_type": "code",
      "source": [
        "import os\n",
        "print(os.listdir('/content/yalefaces/train'))"
      ],
      "metadata": {
        "colab": {
          "base_uri": "https://localhost:8080/"
        },
        "id": "EQE-nhFgwB8Q",
        "outputId": "65f7f2e3-4ffc-4088-e204-f14a3def8850"
      },
      "execution_count": 8,
      "outputs": [
        {
          "output_type": "stream",
          "name": "stdout",
          "text": [
            "['subject13.happy.gif', 'subject02.sad.gif', 'subject09.glasses.gif', 'subject15.surprised.gif', 'subject05.glasses.gif', 'subject02.rightlight.gif', 'subject13.noglasses.gif', 'subject13.centerlight.gif', 'subject14.glasses.gif', 'subject10.rightlight.gif', 'subject07.centerlight.gif', 'subject02.happy.gif', 'subject01.noglasses.gif', 'subject03.surprised.gif', 'subject12.centerlight.gif', 'subject02.glasses.gif', 'subject07.sad.gif', 'subject05.noglasses.gif', 'subject11.sad.gif', 'subject13.normal.gif', 'subject11.wink.gif', 'subject04.wink.gif', 'subject12.leftlight.gif', 'subject11.rightlight.gif', 'subject15.centerlight.gif', 'subject02.noglasses.gif', 'subject04.noglasses.gif', 'subject09.leftlight.gif', 'subject13.rightlight.gif', 'subject09.happy.gif', 'subject13.glasses.gif', 'subject02.sleepy.gif', 'subject06.wink.gif', 'subject05.sad.gif', 'subject12.glasses.gif', 'subject15.noglasses.gif', 'subject09.wink.gif', 'subject05.centerlight.gif', 'subject04.happy.gif', 'subject12.happy.gif', 'subject11.leftlight.gif', 'subject04.sad.gif', 'subject05.happy.gif', 'subject03.wink.gif', 'subject01.glasses.gif', 'subject14.wink.gif', 'subject11.normal.gif', 'subject05.normal.gif', 'subject06.surprised.gif', 'subject15.wink.gif', 'subject01.normal.gif', 'subject14.leftlight.gif', 'subject12.surprised.gif', 'subject08.glasses.gif', 'subject04.normal.gif', 'subject04.glasses.gif', 'subject03.sad.gif', 'subject15.sleepy.gif', 'subject11.centerlight.gif', 'subject09.normal.gif', 'subject01.sleepy.gif', 'subject11.surprised.gif', 'subject10.normal.gif', 'subject09.surprised.gif', 'subject06.sad.gif', 'subject01.wink.gif', 'subject11.sleepy.gif', 'subject14.centerlight.gif', 'subject09.noglasses.gif', 'subject10.leftlight.gif', 'subject02.surprised.gif', 'subject15.happy.gif', 'subject02.normal.gif', 'subject10.glasses.gif', 'subject13.leftlight.gif', 'subject10.sleepy.gif', 'subject14.rightlight.gif', 'subject03.rightlight.gif', 'subject13.surprised.gif', 'subject14.sleepy.gif', 'subject14.happy.gif', 'subject15.leftlight.gif', 'subject10.wink.gif', 'subject07.normal.gif', 'subject03.happy.gif', 'subject04.centerlight.gif', 'subject01.sad.gif', 'subject09.centerlight.gif', 'subject04.rightlight.gif', 'subject08.sad.gif', 'subject07.noglasses.gif', 'subject01.rightlight.gif', 'subject13.wink.gif', 'subject10.noglasses.gif', 'subject06.noglasses.gif', 'subject08.noglasses.gif', 'subject05.rightlight.gif', 'subject08.sleepy.gif', 'subject10.surprised.gif', 'subject01.surprised.gif', 'subject15.glasses.gif', 'subject14.surprised.gif', 'subject06.sleepy.gif', 'subject05.leftlight.gif', 'subject07.sleepy.gif', 'subject08.centerlight.gif', 'subject08.wink.gif', 'subject08.surprised.gif', 'subject12.sad.gif', 'subject03.sleepy.gif', 'subject11.noglasses.gif', 'subject04.sleepy.gif', 'subject02.wink.gif', 'subject08.leftlight.gif', 'subject06.centerlight.gif', 'subject07.glasses.gif', 'subject01.leftlight.gif', 'subject12.noglasses.gif', 'subject06.rightlight.gif', 'subject07.surprised.gif', 'subject03.centerlight.gif', 'subject08.happy.gif', 'subject09.sleepy.gif', 'subject07.rightlight.gif', 'subject06.glasses.gif', 'subject05.wink.gif', 'subject06.normal.gif', 'subject15.normal.gif', 'subject10.happy.gif', 'subject12.sleepy.gif', 'subject03.noglasses.gif', 'subject03.normal.gif', 'subject14.noglasses.gif', 'subject12.wink.gif', 'subject07.wink.gif']\n"
          ]
        }
      ]
    },
    {
      "cell_type": "code",
      "source": [
        "TRAIN_DATA_DIR = '/content/yalefaces/train'\n",
        "\n",
        "def get_image_data():\n",
        "  paths = [os.path.join(TRAIN_DATA_DIR, f) for f in os.listdir(TRAIN_DATA_DIR)]\n",
        "  # print(paths)\n",
        "  faces = []\n",
        "  ids = []\n",
        "  for path in paths:\n",
        "    img = Image.open(path).convert('L')\n",
        "    img_np = np.array(img, 'uint8')\n",
        "    id = int(os.path.split(path)[1].split('.')[0].replace('subject', ''))\n",
        "    # print(id)\n",
        "    ids.append(id)\n",
        "    faces.append(img_np)\n",
        "\n",
        "  return np.array(ids), faces"
      ],
      "metadata": {
        "id": "VFz23TNCw9Vj"
      },
      "execution_count": 22,
      "outputs": []
    },
    {
      "cell_type": "code",
      "source": [
        "ids, faces = get_image_data()"
      ],
      "metadata": {
        "id": "YyShJ9mRx9JP"
      },
      "execution_count": 23,
      "outputs": []
    },
    {
      "cell_type": "code",
      "source": [
        "ids"
      ],
      "metadata": {
        "colab": {
          "base_uri": "https://localhost:8080/"
        },
        "id": "HpUr2x9c1VbG",
        "outputId": "f9052357-2d95-4dab-9f03-5ba1d22ddaf8"
      },
      "execution_count": 24,
      "outputs": [
        {
          "output_type": "execute_result",
          "data": {
            "text/plain": [
              "array([13,  2,  9, 15,  5,  2, 13, 13, 14, 10,  7,  2,  1,  3, 12,  2,  7,\n",
              "        5, 11, 13, 11,  4, 12, 11, 15,  2,  4,  9, 13,  9, 13,  2,  6,  5,\n",
              "       12, 15,  9,  5,  4, 12, 11,  4,  5,  3,  1, 14, 11,  5,  6, 15,  1,\n",
              "       14, 12,  8,  4,  4,  3, 15, 11,  9,  1, 11, 10,  9,  6,  1, 11, 14,\n",
              "        9, 10,  2, 15,  2, 10, 13, 10, 14,  3, 13, 14, 14, 15, 10,  7,  3,\n",
              "        4,  1,  9,  4,  8,  7,  1, 13, 10,  6,  8,  5,  8, 10,  1, 15, 14,\n",
              "        6,  5,  7,  8,  8,  8, 12,  3, 11,  4,  2,  8,  6,  7,  1, 12,  6,\n",
              "        7,  3,  8,  9,  7,  6,  5,  6, 15, 10, 12,  3,  3, 14, 12,  7])"
            ]
          },
          "metadata": {},
          "execution_count": 24
        }
      ]
    },
    {
      "cell_type": "code",
      "source": [
        "len(ids)"
      ],
      "metadata": {
        "colab": {
          "base_uri": "https://localhost:8080/"
        },
        "id": "cdC77sDT1bVC",
        "outputId": "55114d1a-5829-4ab5-a725-18824d47889c"
      },
      "execution_count": 25,
      "outputs": [
        {
          "output_type": "execute_result",
          "data": {
            "text/plain": [
              "135"
            ]
          },
          "metadata": {},
          "execution_count": 25
        }
      ]
    },
    {
      "cell_type": "code",
      "source": [
        "faces[0], faces[0].shape"
      ],
      "metadata": {
        "colab": {
          "base_uri": "https://localhost:8080/"
        },
        "id": "IiwEayoJ1eDD",
        "outputId": "f41d73b8-d13a-4c9f-92e7-ac466d2c177e"
      },
      "execution_count": 27,
      "outputs": [
        {
          "output_type": "execute_result",
          "data": {
            "text/plain": [
              "(array([[130, 130, 130, ..., 255, 255, 255],\n",
              "        [255, 255, 255, ..., 255, 255, 255],\n",
              "        [255, 255, 255, ..., 255, 255, 255],\n",
              "        ...,\n",
              "        [255, 255, 255, ..., 200, 192, 195],\n",
              "        [255, 255, 255, ..., 217, 208, 217],\n",
              "        [ 68,  68,  68, ...,  68,  68,  68]], dtype=uint8),\n",
              " (243, 320))"
            ]
          },
          "metadata": {},
          "execution_count": 27
        }
      ]
    },
    {
      "cell_type": "markdown",
      "source": [
        "### Training the LBPH classifier"
      ],
      "metadata": {
        "id": "fOa9yFeo2Svo"
      }
    },
    {
      "cell_type": "code",
      "source": [
        "lbph_classifier = cv2.face.LBPHFaceRecognizer_create()\n",
        "lbph_classifier.train(faces, ids)\n",
        "lbph_classifier.write('lbph_classifier.yml')"
      ],
      "metadata": {
        "id": "BFdpuI2i1juy"
      },
      "execution_count": 28,
      "outputs": []
    },
    {
      "cell_type": "markdown",
      "source": [
        "### Recognizing faces"
      ],
      "metadata": {
        "id": "T93bRFSK3cUZ"
      }
    },
    {
      "cell_type": "code",
      "source": [
        "lbph_face_classifier = cv2.face.LBPHFaceRecognizer_create()\n",
        "lbph_face_classifier.read('/content/lbph_classifier.yml')"
      ],
      "metadata": {
        "id": "QpkfqaD13aMg"
      },
      "execution_count": 29,
      "outputs": []
    },
    {
      "cell_type": "code",
      "source": [
        "test_img_path = '/content/yalefaces/test/subject10.sad.gif'"
      ],
      "metadata": {
        "id": "cdkFXq_e4DL4"
      },
      "execution_count": 31,
      "outputs": []
    },
    {
      "cell_type": "code",
      "source": [
        "test_img = Image.open(test_img_path).convert('L')\n",
        "test_img_np = np.array(test_img, 'uint8')"
      ],
      "metadata": {
        "id": "GIFRnOt24LBK"
      },
      "execution_count": 33,
      "outputs": []
    },
    {
      "cell_type": "code",
      "source": [
        "test_img_np, test_img_np.shape"
      ],
      "metadata": {
        "colab": {
          "base_uri": "https://localhost:8080/"
        },
        "id": "AaLBUb6o4cY_",
        "outputId": "03f26f3e-11b8-4678-c5bb-30c4737fd901"
      },
      "execution_count": 34,
      "outputs": [
        {
          "output_type": "execute_result",
          "data": {
            "text/plain": [
              "(array([[130, 130, 130, ..., 255, 255, 255],\n",
              "        [255, 255, 255, ..., 255, 255, 255],\n",
              "        [255, 255, 255, ..., 255, 255, 255],\n",
              "        ...,\n",
              "        [255, 255, 255, ..., 241, 255, 255],\n",
              "        [255, 255, 255, ..., 234, 237, 252],\n",
              "        [ 68,  68,  68, ...,  68,  68,  68]], dtype=uint8),\n",
              " (243, 320))"
            ]
          },
          "metadata": {},
          "execution_count": 34
        }
      ]
    },
    {
      "cell_type": "code",
      "source": [
        "prediction = lbph_face_classifier.predict(test_img_np)\n",
        "prediction"
      ],
      "metadata": {
        "colab": {
          "base_uri": "https://localhost:8080/"
        },
        "id": "s8LzY2CP4g-Z",
        "outputId": "0da08543-5159-439f-bbc8-a919ef519819"
      },
      "execution_count": 35,
      "outputs": [
        {
          "output_type": "execute_result",
          "data": {
            "text/plain": [
              "(10, 6.384336446373091)"
            ]
          },
          "metadata": {},
          "execution_count": 35
        }
      ]
    },
    {
      "cell_type": "code",
      "source": [
        "expected_output = int(os.path.split(test_img_path)[1].split('.')[0].replace('subject', ''))\n",
        "expected_output"
      ],
      "metadata": {
        "colab": {
          "base_uri": "https://localhost:8080/"
        },
        "id": "s-cV_SiU4wKl",
        "outputId": "59934cf5-27a8-48cb-81a6-4276d1d71849"
      },
      "execution_count": 37,
      "outputs": [
        {
          "output_type": "execute_result",
          "data": {
            "text/plain": [
              "10"
            ]
          },
          "metadata": {},
          "execution_count": 37
        }
      ]
    },
    {
      "cell_type": "code",
      "source": [
        "cv2.putText(test_img_np, 'Pred: ' + str(prediction[0]), (10, 30), cv2.FONT_HERSHEY_COMPLEX_SMALL, 1, (0, 255, 0))\n",
        "cv2.putText(test_img_np, 'Exp: ' + str(expected_output), (10, 50), cv2.FONT_HERSHEY_COMPLEX_SMALL, 1, (0, 255, 0))\n",
        "cv2_imshow(test_img_np)"
      ],
      "metadata": {
        "colab": {
          "base_uri": "https://localhost:8080/",
          "height": 260
        },
        "id": "_gOTkoyI5I2Y",
        "outputId": "2646c22a-f736-47f9-e5f3-c704ffc79e18"
      },
      "execution_count": 40,
      "outputs": [
        {
          "output_type": "display_data",
          "data": {
            "text/plain": [
              "<PIL.Image.Image image mode=L size=320x243 at 0x7B7445F20850>"
            ],
            "image/png": "[encoded data removed]"
          },
          "metadata": {}
        }
      ]
    }
  ]
}